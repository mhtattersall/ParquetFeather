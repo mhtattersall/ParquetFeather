{
  "cells": [
    {
      "cell_type": "markdown",
      "metadata": {
        "id": "view-in-github",
        "colab_type": "text"
      },
      "source": [
        "<a href=\"https://colab.research.google.com/github/mhtattersall/ParquetFeather/blob/main/Try_it_22_1_students.ipynb\" target=\"_parent\"><img src=\"https://colab.research.google.com/assets/colab-badge.svg\" alt=\"Open In Colab\"/></a>"
      ]
    },
    {
      "cell_type": "markdown",
      "id": "b03a155a",
      "metadata": {
        "id": "b03a155a"
      },
      "source": [
        "# Try It Activity 22.1: Reading Big Data\n",
        "\n",
        "### Learning Outcome Addressed:\n",
        "\n",
        "- 1. Compare applications of the Parquet and Feather formats to reading and writing big data.\n",
        "\n",
        "## Try It Activity Overview:\n",
        "\n",
        "In this Try It activity, you will be challenged to compare the reading and writing performances of the Apache Parquet and Feather formats on a *dataframe* with 2,000,000 rows."
      ]
    },
    {
      "cell_type": "markdown",
      "id": "caac9fc6",
      "metadata": {
        "id": "caac9fc6"
      },
      "source": [
        "## Part 1: Initializing the *Dataframe*\n",
        "\n",
        "In the first part of this activity, you will create a toy *dataframe* titled `df` with 2,000,000 rows and 10 columns named from `A` to `J`. The first five columns will contain a random floating point number. The sixth and seventh columns will contain a random integer number between 0 and 10. The eighth and ninth columns will contain a random number between 0 and 1. Finally, the last column will contain a random Latin word from the `sentence` *module* in the `lorem` *library*.\n",
        "\n",
        "Run the code cell below to create the `df` *dataframe*."
      ]
    },
    {
      "cell_type": "code",
      "execution_count": 3,
      "id": "BEKdVXmSNO9C",
      "metadata": {
        "colab": {
          "base_uri": "https://localhost:8080/"
        },
        "id": "BEKdVXmSNO9C",
        "outputId": "c5694141-0a2e-4cea-bdd2-ecbfe607ffd9"
      },
      "outputs": [
        {
          "output_type": "stream",
          "name": "stdout",
          "text": [
            "Collecting lorem\n",
            "  Downloading lorem-0.1.1-py3-none-any.whl (5.0 kB)\n",
            "Installing collected packages: lorem\n",
            "Successfully installed lorem-0.1.1\n"
          ]
        }
      ],
      "source": [
        "!pip install lorem"
      ]
    },
    {
      "cell_type": "code",
      "execution_count": 4,
      "id": "8e29c8a4",
      "metadata": {
        "id": "8e29c8a4"
      },
      "outputs": [],
      "source": [
        "import numpy as np\n",
        "import pandas as pd\n",
        "from lorem import sentence\n",
        "\n",
        "words = np.array(sentence().strip().lower().replace(\".\", \" \").split())\n",
        "\n",
        "# Set the seed so that the numbers can be reproduced.\n",
        "np.random.seed(0)\n",
        "n = 2000000\n",
        "df = pd.DataFrame(np.c_[np.random.randn(n, 5),\n",
        "                  np.random.randint(0,10,(n, 2)),\n",
        "                  np.random.randint(0,1,(n, 2)),\n",
        "np.array([np.random.choice(words) for i in range(n)])] ,\n",
        "columns=list('ABCDEFGHIJ'))\n",
        "\n",
        "df[\"A\"][::10] = np.nan"
      ]
    },
    {
      "cell_type": "markdown",
      "id": "e2702b50",
      "metadata": {
        "id": "e2702b50"
      },
      "source": [
        "Run the code cell below to visualize the first five rows in the `df` *dataframe*."
      ]
    },
    {
      "cell_type": "code",
      "execution_count": 5,
      "id": "703e1cf4",
      "metadata": {
        "colab": {
          "base_uri": "https://localhost:8080/",
          "height": 206
        },
        "id": "703e1cf4",
        "outputId": "a36adc99-7ec3-411c-e78a-61ea298f9af1"
      },
      "outputs": [
        {
          "output_type": "execute_result",
          "data": {
            "text/plain": [
              "                     A                   B                     C  \\\n",
              "0                  NaN  0.4001572083672233    0.9787379841057392   \n",
              "1   -0.977277879876411  0.9500884175255894   -0.1513572082976979   \n",
              "2    0.144043571160878   1.454273506962975    0.7610377251469934   \n",
              "3  0.33367432737426683  1.4940790731576061  -0.20515826376580087   \n",
              "4  -2.5529898158340787  0.6536185954403606    0.8644361988595057   \n",
              "\n",
              "                      D                    E  F  G  H  I        J  \n",
              "0     2.240893199201458   1.8675579901499675  9  1  0  0   magnam  \n",
              "1  -0.10321885179355784  0.41059850193837233  0  3  0  0  dolorem  \n",
              "2   0.12167501649282841  0.44386323274542566  4  9  0  0      non  \n",
              "3   0.31306770165090136  -0.8540957393017248  3  4  0  0  dolorem  \n",
              "4   -0.7421650204064419   2.2697546239876076  6  4  0  0      non  "
            ],
            "text/html": [
              "\n",
              "  <div id=\"df-e66b555e-99c4-4e7a-9f90-ece3c73d438f\" class=\"colab-df-container\">\n",
              "    <div>\n",
              "<style scoped>\n",
              "    .dataframe tbody tr th:only-of-type {\n",
              "        vertical-align: middle;\n",
              "    }\n",
              "\n",
              "    .dataframe tbody tr th {\n",
              "        vertical-align: top;\n",
              "    }\n",
              "\n",
              "    .dataframe thead th {\n",
              "        text-align: right;\n",
              "    }\n",
              "</style>\n",
              "<table border=\"1\" class=\"dataframe\">\n",
              "  <thead>\n",
              "    <tr style=\"text-align: right;\">\n",
              "      <th></th>\n",
              "      <th>A</th>\n",
              "      <th>B</th>\n",
              "      <th>C</th>\n",
              "      <th>D</th>\n",
              "      <th>E</th>\n",
              "      <th>F</th>\n",
              "      <th>G</th>\n",
              "      <th>H</th>\n",
              "      <th>I</th>\n",
              "      <th>J</th>\n",
              "    </tr>\n",
              "  </thead>\n",
              "  <tbody>\n",
              "    <tr>\n",
              "      <th>0</th>\n",
              "      <td>NaN</td>\n",
              "      <td>0.4001572083672233</td>\n",
              "      <td>0.9787379841057392</td>\n",
              "      <td>2.240893199201458</td>\n",
              "      <td>1.8675579901499675</td>\n",
              "      <td>9</td>\n",
              "      <td>1</td>\n",
              "      <td>0</td>\n",
              "      <td>0</td>\n",
              "      <td>magnam</td>\n",
              "    </tr>\n",
              "    <tr>\n",
              "      <th>1</th>\n",
              "      <td>-0.977277879876411</td>\n",
              "      <td>0.9500884175255894</td>\n",
              "      <td>-0.1513572082976979</td>\n",
              "      <td>-0.10321885179355784</td>\n",
              "      <td>0.41059850193837233</td>\n",
              "      <td>0</td>\n",
              "      <td>3</td>\n",
              "      <td>0</td>\n",
              "      <td>0</td>\n",
              "      <td>dolorem</td>\n",
              "    </tr>\n",
              "    <tr>\n",
              "      <th>2</th>\n",
              "      <td>0.144043571160878</td>\n",
              "      <td>1.454273506962975</td>\n",
              "      <td>0.7610377251469934</td>\n",
              "      <td>0.12167501649282841</td>\n",
              "      <td>0.44386323274542566</td>\n",
              "      <td>4</td>\n",
              "      <td>9</td>\n",
              "      <td>0</td>\n",
              "      <td>0</td>\n",
              "      <td>non</td>\n",
              "    </tr>\n",
              "    <tr>\n",
              "      <th>3</th>\n",
              "      <td>0.33367432737426683</td>\n",
              "      <td>1.4940790731576061</td>\n",
              "      <td>-0.20515826376580087</td>\n",
              "      <td>0.31306770165090136</td>\n",
              "      <td>-0.8540957393017248</td>\n",
              "      <td>3</td>\n",
              "      <td>4</td>\n",
              "      <td>0</td>\n",
              "      <td>0</td>\n",
              "      <td>dolorem</td>\n",
              "    </tr>\n",
              "    <tr>\n",
              "      <th>4</th>\n",
              "      <td>-2.5529898158340787</td>\n",
              "      <td>0.6536185954403606</td>\n",
              "      <td>0.8644361988595057</td>\n",
              "      <td>-0.7421650204064419</td>\n",
              "      <td>2.2697546239876076</td>\n",
              "      <td>6</td>\n",
              "      <td>4</td>\n",
              "      <td>0</td>\n",
              "      <td>0</td>\n",
              "      <td>non</td>\n",
              "    </tr>\n",
              "  </tbody>\n",
              "</table>\n",
              "</div>\n",
              "    <div class=\"colab-df-buttons\">\n",
              "\n",
              "  <div class=\"colab-df-container\">\n",
              "    <button class=\"colab-df-convert\" onclick=\"convertToInteractive('df-e66b555e-99c4-4e7a-9f90-ece3c73d438f')\"\n",
              "            title=\"Convert this dataframe to an interactive table.\"\n",
              "            style=\"display:none;\">\n",
              "\n",
              "  <svg xmlns=\"http://www.w3.org/2000/svg\" height=\"24px\" viewBox=\"0 -960 960 960\">\n",
              "    <path d=\"M120-120v-720h720v720H120Zm60-500h600v-160H180v160Zm220 220h160v-160H400v160Zm0 220h160v-160H400v160ZM180-400h160v-160H180v160Zm440 0h160v-160H620v160ZM180-180h160v-160H180v160Zm440 0h160v-160H620v160Z\"/>\n",
              "  </svg>\n",
              "    </button>\n",
              "\n",
              "  <style>\n",
              "    .colab-df-container {\n",
              "      display:flex;\n",
              "      gap: 12px;\n",
              "    }\n",
              "\n",
              "    .colab-df-convert {\n",
              "      background-color: #E8F0FE;\n",
              "      border: none;\n",
              "      border-radius: 50%;\n",
              "      cursor: pointer;\n",
              "      display: none;\n",
              "      fill: #1967D2;\n",
              "      height: 32px;\n",
              "      padding: 0 0 0 0;\n",
              "      width: 32px;\n",
              "    }\n",
              "\n",
              "    .colab-df-convert:hover {\n",
              "      background-color: #E2EBFA;\n",
              "      box-shadow: 0px 1px 2px rgba(60, 64, 67, 0.3), 0px 1px 3px 1px rgba(60, 64, 67, 0.15);\n",
              "      fill: #174EA6;\n",
              "    }\n",
              "\n",
              "    .colab-df-buttons div {\n",
              "      margin-bottom: 4px;\n",
              "    }\n",
              "\n",
              "    [theme=dark] .colab-df-convert {\n",
              "      background-color: #3B4455;\n",
              "      fill: #D2E3FC;\n",
              "    }\n",
              "\n",
              "    [theme=dark] .colab-df-convert:hover {\n",
              "      background-color: #434B5C;\n",
              "      box-shadow: 0px 1px 3px 1px rgba(0, 0, 0, 0.15);\n",
              "      filter: drop-shadow(0px 1px 2px rgba(0, 0, 0, 0.3));\n",
              "      fill: #FFFFFF;\n",
              "    }\n",
              "  </style>\n",
              "\n",
              "    <script>\n",
              "      const buttonEl =\n",
              "        document.querySelector('#df-e66b555e-99c4-4e7a-9f90-ece3c73d438f button.colab-df-convert');\n",
              "      buttonEl.style.display =\n",
              "        google.colab.kernel.accessAllowed ? 'block' : 'none';\n",
              "\n",
              "      async function convertToInteractive(key) {\n",
              "        const element = document.querySelector('#df-e66b555e-99c4-4e7a-9f90-ece3c73d438f');\n",
              "        const dataTable =\n",
              "          await google.colab.kernel.invokeFunction('convertToInteractive',\n",
              "                                                    [key], {});\n",
              "        if (!dataTable) return;\n",
              "\n",
              "        const docLinkHtml = 'Like what you see? Visit the ' +\n",
              "          '<a target=\"_blank\" href=https://colab.research.google.com/notebooks/data_table.ipynb>data table notebook</a>'\n",
              "          + ' to learn more about interactive tables.';\n",
              "        element.innerHTML = '';\n",
              "        dataTable['output_type'] = 'display_data';\n",
              "        await google.colab.output.renderOutput(dataTable, element);\n",
              "        const docLink = document.createElement('div');\n",
              "        docLink.innerHTML = docLinkHtml;\n",
              "        element.appendChild(docLink);\n",
              "      }\n",
              "    </script>\n",
              "  </div>\n",
              "\n",
              "\n",
              "<div id=\"df-1193b50d-ce71-4667-af96-bcf5f3aea99c\">\n",
              "  <button class=\"colab-df-quickchart\" onclick=\"quickchart('df-1193b50d-ce71-4667-af96-bcf5f3aea99c')\"\n",
              "            title=\"Suggest charts\"\n",
              "            style=\"display:none;\">\n",
              "\n",
              "<svg xmlns=\"http://www.w3.org/2000/svg\" height=\"24px\"viewBox=\"0 0 24 24\"\n",
              "     width=\"24px\">\n",
              "    <g>\n",
              "        <path d=\"M19 3H5c-1.1 0-2 .9-2 2v14c0 1.1.9 2 2 2h14c1.1 0 2-.9 2-2V5c0-1.1-.9-2-2-2zM9 17H7v-7h2v7zm4 0h-2V7h2v10zm4 0h-2v-4h2v4z\"/>\n",
              "    </g>\n",
              "</svg>\n",
              "  </button>\n",
              "\n",
              "<style>\n",
              "  .colab-df-quickchart {\n",
              "      --bg-color: #E8F0FE;\n",
              "      --fill-color: #1967D2;\n",
              "      --hover-bg-color: #E2EBFA;\n",
              "      --hover-fill-color: #174EA6;\n",
              "      --disabled-fill-color: #AAA;\n",
              "      --disabled-bg-color: #DDD;\n",
              "  }\n",
              "\n",
              "  [theme=dark] .colab-df-quickchart {\n",
              "      --bg-color: #3B4455;\n",
              "      --fill-color: #D2E3FC;\n",
              "      --hover-bg-color: #434B5C;\n",
              "      --hover-fill-color: #FFFFFF;\n",
              "      --disabled-bg-color: #3B4455;\n",
              "      --disabled-fill-color: #666;\n",
              "  }\n",
              "\n",
              "  .colab-df-quickchart {\n",
              "    background-color: var(--bg-color);\n",
              "    border: none;\n",
              "    border-radius: 50%;\n",
              "    cursor: pointer;\n",
              "    display: none;\n",
              "    fill: var(--fill-color);\n",
              "    height: 32px;\n",
              "    padding: 0;\n",
              "    width: 32px;\n",
              "  }\n",
              "\n",
              "  .colab-df-quickchart:hover {\n",
              "    background-color: var(--hover-bg-color);\n",
              "    box-shadow: 0 1px 2px rgba(60, 64, 67, 0.3), 0 1px 3px 1px rgba(60, 64, 67, 0.15);\n",
              "    fill: var(--button-hover-fill-color);\n",
              "  }\n",
              "\n",
              "  .colab-df-quickchart-complete:disabled,\n",
              "  .colab-df-quickchart-complete:disabled:hover {\n",
              "    background-color: var(--disabled-bg-color);\n",
              "    fill: var(--disabled-fill-color);\n",
              "    box-shadow: none;\n",
              "  }\n",
              "\n",
              "  .colab-df-spinner {\n",
              "    border: 2px solid var(--fill-color);\n",
              "    border-color: transparent;\n",
              "    border-bottom-color: var(--fill-color);\n",
              "    animation:\n",
              "      spin 1s steps(1) infinite;\n",
              "  }\n",
              "\n",
              "  @keyframes spin {\n",
              "    0% {\n",
              "      border-color: transparent;\n",
              "      border-bottom-color: var(--fill-color);\n",
              "      border-left-color: var(--fill-color);\n",
              "    }\n",
              "    20% {\n",
              "      border-color: transparent;\n",
              "      border-left-color: var(--fill-color);\n",
              "      border-top-color: var(--fill-color);\n",
              "    }\n",
              "    30% {\n",
              "      border-color: transparent;\n",
              "      border-left-color: var(--fill-color);\n",
              "      border-top-color: var(--fill-color);\n",
              "      border-right-color: var(--fill-color);\n",
              "    }\n",
              "    40% {\n",
              "      border-color: transparent;\n",
              "      border-right-color: var(--fill-color);\n",
              "      border-top-color: var(--fill-color);\n",
              "    }\n",
              "    60% {\n",
              "      border-color: transparent;\n",
              "      border-right-color: var(--fill-color);\n",
              "    }\n",
              "    80% {\n",
              "      border-color: transparent;\n",
              "      border-right-color: var(--fill-color);\n",
              "      border-bottom-color: var(--fill-color);\n",
              "    }\n",
              "    90% {\n",
              "      border-color: transparent;\n",
              "      border-bottom-color: var(--fill-color);\n",
              "    }\n",
              "  }\n",
              "</style>\n",
              "\n",
              "  <script>\n",
              "    async function quickchart(key) {\n",
              "      const quickchartButtonEl =\n",
              "        document.querySelector('#' + key + ' button');\n",
              "      quickchartButtonEl.disabled = true;  // To prevent multiple clicks.\n",
              "      quickchartButtonEl.classList.add('colab-df-spinner');\n",
              "      try {\n",
              "        const charts = await google.colab.kernel.invokeFunction(\n",
              "            'suggestCharts', [key], {});\n",
              "      } catch (error) {\n",
              "        console.error('Error during call to suggestCharts:', error);\n",
              "      }\n",
              "      quickchartButtonEl.classList.remove('colab-df-spinner');\n",
              "      quickchartButtonEl.classList.add('colab-df-quickchart-complete');\n",
              "    }\n",
              "    (() => {\n",
              "      let quickchartButtonEl =\n",
              "        document.querySelector('#df-1193b50d-ce71-4667-af96-bcf5f3aea99c button');\n",
              "      quickchartButtonEl.style.display =\n",
              "        google.colab.kernel.accessAllowed ? 'block' : 'none';\n",
              "    })();\n",
              "  </script>\n",
              "</div>\n",
              "    </div>\n",
              "  </div>\n"
            ],
            "application/vnd.google.colaboratory.intrinsic+json": {
              "type": "dataframe",
              "variable_name": "df"
            }
          },
          "metadata": {},
          "execution_count": 5
        }
      ],
      "source": [
        "df.head()"
      ]
    },
    {
      "cell_type": "markdown",
      "id": "08f50715",
      "metadata": {
        "id": "08f50715"
      },
      "source": [
        "## Part 2: Writing to the Parquet and Feather Formats\n",
        "\n",
        "Now it's time for you to write the data in the `df` *dataframe* to the Parquet and Feather formats and compare the performances.\n",
        "\n",
        "**NOTE:** In the code cell below, the `%%time` *function* is called to calculate how long it takes to the code to execute.\n",
        "\n",
        "### Question 1\n",
        "\n",
        "Complete the code in the code cell below to write the data in the `df` *dataframe* to Parquet format. Name the file that will contain the `df.parquet` data."
      ]
    },
    {
      "cell_type": "code",
      "execution_count": 6,
      "id": "9af33bfb",
      "metadata": {
        "colab": {
          "base_uri": "https://localhost:8080/"
        },
        "id": "9af33bfb",
        "outputId": "f0f3a37c-67a1-43cf-c428-16db03b79bd4"
      },
      "outputs": [
        {
          "output_type": "stream",
          "name": "stdout",
          "text": [
            "CPU times: user 3.74 s, sys: 443 ms, total: 4.18 s\n",
            "Wall time: 4.24 s\n"
          ]
        }
      ],
      "source": [
        "%%time\n",
        "\n",
        "#complete the code below\n",
        "df.to_parquet('df.parquet')"
      ]
    },
    {
      "cell_type": "markdown",
      "id": "628c755e",
      "metadata": {
        "id": "628c755e"
      },
      "source": [
        "### Question 2\n",
        "\n",
        "Complete the code in the code cell below to write the data in the `df` *dataframe* to Feather format. Name the file that will contain the `df.ftr` data."
      ]
    },
    {
      "cell_type": "code",
      "execution_count": 7,
      "id": "d30c25b9",
      "metadata": {
        "colab": {
          "base_uri": "https://localhost:8080/"
        },
        "id": "d30c25b9",
        "outputId": "97eee072-ffb9-43ed-d68b-e4820d3298aa"
      },
      "outputs": [
        {
          "output_type": "stream",
          "name": "stdout",
          "text": [
            "CPU times: user 2.42 s, sys: 483 ms, total: 2.9 s\n",
            "Wall time: 2.69 s\n"
          ]
        }
      ],
      "source": [
        "%%time\n",
        "\n",
        "#complete the code below\n",
        "df.to_feather('df.ftr')"
      ]
    },
    {
      "cell_type": "markdown",
      "id": "ffbb665b",
      "metadata": {
        "id": "ffbb665b"
      },
      "source": [
        "## Part 3: Reading the Parquet and Feather Formats\n",
        "\n",
        "Finally, it's time for you to read the data stored in the Parquet and Feather formats and compare the performances.\n",
        "\n",
        "### Question 3\n",
        "\n",
        "Complete the code in the code cell below to read the data that you stored in Parquet format in Part 2. Assign the new *dataframe* to the `df_parquet` variable."
      ]
    },
    {
      "cell_type": "code",
      "execution_count": 8,
      "id": "00484e84",
      "metadata": {
        "colab": {
          "base_uri": "https://localhost:8080/"
        },
        "id": "00484e84",
        "outputId": "7d8daf98-dfb8-47c5-f571-53f9fd467128"
      },
      "outputs": [
        {
          "output_type": "stream",
          "name": "stdout",
          "text": [
            "CPU times: user 4.31 s, sys: 1.9 s, total: 6.21 s\n",
            "Wall time: 5.21 s\n"
          ]
        }
      ],
      "source": [
        "%%time\n",
        "\n",
        "#complete the code below\n",
        "df_parquet = pd.read_parquet('df.parquet')"
      ]
    },
    {
      "cell_type": "markdown",
      "id": "a9f1ca70",
      "metadata": {
        "id": "a9f1ca70"
      },
      "source": [
        "### Question 4\n",
        "\n",
        "Complete the code in the code cell below to read the data that you stored in Feather format in Part 2. Assign the new *dataframe* to the `df_feather` variable."
      ]
    },
    {
      "cell_type": "code",
      "execution_count": 9,
      "id": "78e37e2a",
      "metadata": {
        "id": "78e37e2a",
        "colab": {
          "base_uri": "https://localhost:8080/"
        },
        "outputId": "a9de7108-f4b2-41eb-9471-a7e2f23ba342"
      },
      "outputs": [
        {
          "output_type": "stream",
          "name": "stdout",
          "text": [
            "CPU times: user 3.24 s, sys: 2.04 s, total: 5.28 s\n",
            "Wall time: 5.16 s\n"
          ]
        }
      ],
      "source": [
        "%%time\n",
        "\n",
        "#complete the code below\n",
        "df_feather = pd.read_feather('df.ftr')"
      ]
    },
    {
      "cell_type": "code",
      "execution_count": null,
      "id": "fe693185",
      "metadata": {
        "id": "fe693185"
      },
      "outputs": [],
      "source": []
    }
  ],
  "metadata": {
    "colab": {
      "provenance": [],
      "include_colab_link": true
    },
    "kernelspec": {
      "display_name": "Python 3 (ipykernel)",
      "language": "python",
      "name": "python3"
    },
    "language_info": {
      "codemirror_mode": {
        "name": "ipython",
        "version": 3
      },
      "file_extension": ".py",
      "mimetype": "text/x-python",
      "name": "python",
      "nbconvert_exporter": "python",
      "pygments_lexer": "ipython3",
      "version": "3.9.9"
    }
  },
  "nbformat": 4,
  "nbformat_minor": 5
}